{
  "cells": [
    {
      "cell_type": "code",
      "source": [
        "from google.colab import drive\n",
        "drive.mount('/content/drive')"
      ],
      "metadata": {
        "id": "pM1C7kZlLKAC",
        "outputId": "9e108fca-e0be-4ad7-854b-cb9e05821d55",
        "colab": {
          "base_uri": "https://localhost:8080/"
        }
      },
      "execution_count": 53,
      "outputs": [
        {
          "output_type": "stream",
          "name": "stdout",
          "text": [
            "Drive already mounted at /content/drive; to attempt to forcibly remount, call drive.mount(\"/content/drive\", force_remount=True).\n"
          ]
        }
      ]
    },
    {
      "cell_type": "code",
      "execution_count": 54,
      "metadata": {
        "id": "oX724eA5Kr19"
      },
      "outputs": [],
      "source": [
        "import matplotlib.pyplot as plt\n",
        "import numpy as np\n",
        "import pandas as pd\n",
        "import os\n",
        "import PIL\n",
        "import tensorflow as tf\n"
      ]
    },
    {
      "cell_type": "code",
      "execution_count": 72,
      "metadata": {
        "id": "6kl2vzGuKr1-"
      },
      "outputs": [],
      "source": [
        "dir  = '/content/drive/MyDrive/DDRUCNN/data/'\n",
        "\n",
        "train = pd.read_csv(dir + '/train.csv', delimiter=',', header='infer', encoding='utf-8')\n",
        "test = pd.read_csv(dir + '/test.csv', delimiter=',', header='infer', encoding='utf-8')"
      ]
    },
    {
      "cell_type": "code",
      "source": [
        "import shutil\n",
        "\n",
        "dir  = '/content/drive/MyDrive/DDRUCNN/data/'\n",
        "\n",
        "# for row in train.index:\n",
        "    # shutil.move(dir + 'train/' + train['image'][row] + '.jpeg', dir + 'train/' + 'level_' + str(train['level'][row]) + '/' + train['image'][row] + '.jpeg')\n",
        "\n",
        "# for row in test.index:\n",
        "    # shutil.move(dir + 'test/' + test['image'][row] + '.jpeg', dir + 'test/' + 'level_' + str(test['level'][row]) + '/' + test['image'][row] + '.jpeg')"
      ],
      "metadata": {
        "id": "Fe_cEBa8Mmsb"
      },
      "execution_count": 73,
      "outputs": []
    },
    {
      "cell_type": "code",
      "source": [
        "import keras, os\n",
        "from keras.models import Sequential\n",
        "from keras.layers import Dense, Conv2D, MaxPool2D, Flatten\n",
        "from keras.preprocessing.image import ImageDataGenerator"
      ],
      "metadata": {
        "id": "Gx8WccJLNGb9"
      },
      "execution_count": 68,
      "outputs": []
    },
    {
      "cell_type": "code",
      "source": [
        "dir  = '/content/drive/MyDrive/DDRUCNN/data/'\n",
        "\n",
        "tr_data = ImageDataGenerator()\n",
        "train_data = tr_data.flow_from_directory(directory=dir + \"train/\", target_size=(224,224))\n",
        "\n",
        "ts_data = ImageDataGenerator()\n",
        "test_data = ts_data.flow_from_directory(directory= dir + \"test/\", target_size=(224,224))"
      ],
      "metadata": {
        "id": "nuv0k_J8NIQK",
        "outputId": "0daa72d2-dbca-4664-f6c6-c90306f83791",
        "colab": {
          "base_uri": "https://localhost:8080/"
        }
      },
      "execution_count": 74,
      "outputs": [
        {
          "output_type": "stream",
          "name": "stdout",
          "text": [
            "Found 2832 images belonging to 5 classes.\n",
            "Found 708 images belonging to 5 classes.\n"
          ]
        }
      ]
    },
    {
      "cell_type": "code",
      "source": [
        "train_data.class_indices"
      ],
      "metadata": {
        "id": "VyAo_BIaQdgf",
        "outputId": "b0b16ec1-b3eb-4ffb-8dd5-b24e81abff3f",
        "colab": {
          "base_uri": "https://localhost:8080/"
        }
      },
      "execution_count": 75,
      "outputs": [
        {
          "output_type": "execute_result",
          "data": {
            "text/plain": [
              "{'level_0': 0, 'level_1': 1, 'level_2': 2, 'level_3': 3, 'level_4': 4}"
            ]
          },
          "metadata": {},
          "execution_count": 75
        }
      ]
    },
    {
      "cell_type": "code",
      "execution_count": 48,
      "metadata": {
        "id": "enSexI9yKr1_"
      },
      "outputs": [],
      "source": [
        "model = Sequential()\n",
        "model.add(Conv2D(input_shape=(224,224,3),filters=64,kernel_size=(3,3),padding=\"same\", activation=\"relu\"))\n",
        "model.add(Conv2D(filters=64,kernel_size=(3,3),padding=\"same\", activation=\"relu\"))\n",
        "model.add(MaxPool2D(pool_size=(2,2),strides=(2,2)))\n",
        "model.add(Conv2D(filters=128, kernel_size=(3,3), padding=\"same\", activation=\"relu\"))\n",
        "model.add(Conv2D(filters=128, kernel_size=(3,3), padding=\"same\", activation=\"relu\"))\n",
        "model.add(MaxPool2D(pool_size=(2,2),strides=(2,2)))\n",
        "model.add(Conv2D(filters=256, kernel_size=(3,3), padding=\"same\", activation=\"relu\"))\n",
        "model.add(Conv2D(filters=256, kernel_size=(3,3), padding=\"same\", activation=\"relu\"))\n",
        "model.add(Conv2D(filters=256, kernel_size=(3,3), padding=\"same\", activation=\"relu\"))\n",
        "model.add(MaxPool2D(pool_size=(2,2),strides=(2,2)))\n",
        "model.add(Conv2D(filters=512, kernel_size=(3,3), padding=\"same\", activation=\"relu\"))\n",
        "model.add(Conv2D(filters=512, kernel_size=(3,3), padding=\"same\", activation=\"relu\"))\n",
        "model.add(Conv2D(filters=512, kernel_size=(3,3), padding=\"same\", activation=\"relu\"))\n",
        "model.add(MaxPool2D(pool_size=(2,2),strides=(2,2)))\n",
        "model.add(Conv2D(filters=512, kernel_size=(3,3), padding=\"same\", activation=\"relu\"))\n",
        "model.add(Conv2D(filters=512, kernel_size=(3,3), padding=\"same\", activation=\"relu\"))\n",
        "model.add(Conv2D(filters=512, kernel_size=(3,3), padding=\"same\", activation=\"relu\"))\n",
        "model.add(MaxPool2D(pool_size=(2,2),strides=(2,2)))"
      ]
    },
    {
      "cell_type": "code",
      "execution_count": 49,
      "metadata": {
        "id": "8qWoy9GsKr1_"
      },
      "outputs": [],
      "source": [
        "model.add(Flatten())\n",
        "model.add(Dense(units=4096,activation=\"relu\"))\n",
        "model.add(Dense(units=4096,activation=\"relu\"))\n",
        "model.add(Dense(units=5, activation=\"softmax\"))"
      ]
    },
    {
      "cell_type": "code",
      "execution_count": 50,
      "metadata": {
        "id": "4xzHiCyEKr2A",
        "outputId": "87ae27ba-1e3a-4146-a321-148360eb1e60",
        "colab": {
          "base_uri": "https://localhost:8080/"
        }
      },
      "outputs": [
        {
          "output_type": "stream",
          "name": "stderr",
          "text": [
            "/usr/local/lib/python3.10/dist-packages/keras/optimizers/legacy/adam.py:117: UserWarning: The `lr` argument is deprecated, use `learning_rate` instead.\n",
            "  super().__init__(name, **kwargs)\n"
          ]
        }
      ],
      "source": [
        "from keras.optimizers import Adam\n",
        "opt = Adam(lr=0.001)\n",
        "model.compile(optimizer=opt, loss=keras.losses.categorical_crossentropy, metrics=['accuracy'])"
      ]
    },
    {
      "cell_type": "code",
      "execution_count": 51,
      "metadata": {
        "id": "KfKFKGfPKr2A",
        "outputId": "5e62c35a-db3a-4f94-b6f3-5aa4ddfaadf5",
        "colab": {
          "base_uri": "https://localhost:8080/"
        }
      },
      "outputs": [
        {
          "output_type": "stream",
          "name": "stdout",
          "text": [
            "Model: \"sequential\"\n",
            "_________________________________________________________________\n",
            " Layer (type)                Output Shape              Param #   \n",
            "=================================================================\n",
            " conv2d (Conv2D)             (None, 224, 224, 64)      1792      \n",
            "                                                                 \n",
            " conv2d_1 (Conv2D)           (None, 224, 224, 64)      36928     \n",
            "                                                                 \n",
            " max_pooling2d (MaxPooling2D  (None, 112, 112, 64)     0         \n",
            " )                                                               \n",
            "                                                                 \n",
            " conv2d_2 (Conv2D)           (None, 112, 112, 128)     73856     \n",
            "                                                                 \n",
            " conv2d_3 (Conv2D)           (None, 112, 112, 128)     147584    \n",
            "                                                                 \n",
            " max_pooling2d_1 (MaxPooling  (None, 56, 56, 128)      0         \n",
            " 2D)                                                             \n",
            "                                                                 \n",
            " conv2d_4 (Conv2D)           (None, 56, 56, 256)       295168    \n",
            "                                                                 \n",
            " conv2d_5 (Conv2D)           (None, 56, 56, 256)       590080    \n",
            "                                                                 \n",
            " conv2d_6 (Conv2D)           (None, 56, 56, 256)       590080    \n",
            "                                                                 \n",
            " max_pooling2d_2 (MaxPooling  (None, 28, 28, 256)      0         \n",
            " 2D)                                                             \n",
            "                                                                 \n",
            " conv2d_7 (Conv2D)           (None, 28, 28, 512)       1180160   \n",
            "                                                                 \n",
            " conv2d_8 (Conv2D)           (None, 28, 28, 512)       2359808   \n",
            "                                                                 \n",
            " conv2d_9 (Conv2D)           (None, 28, 28, 512)       2359808   \n",
            "                                                                 \n",
            " max_pooling2d_3 (MaxPooling  (None, 14, 14, 512)      0         \n",
            " 2D)                                                             \n",
            "                                                                 \n",
            " conv2d_10 (Conv2D)          (None, 14, 14, 512)       2359808   \n",
            "                                                                 \n",
            " conv2d_11 (Conv2D)          (None, 14, 14, 512)       2359808   \n",
            "                                                                 \n",
            " conv2d_12 (Conv2D)          (None, 14, 14, 512)       2359808   \n",
            "                                                                 \n",
            " max_pooling2d_4 (MaxPooling  (None, 7, 7, 512)        0         \n",
            " 2D)                                                             \n",
            "                                                                 \n",
            " flatten (Flatten)           (None, 25088)             0         \n",
            "                                                                 \n",
            " dense (Dense)               (None, 4096)              102764544 \n",
            "                                                                 \n",
            " dense_1 (Dense)             (None, 4096)              16781312  \n",
            "                                                                 \n",
            " dense_2 (Dense)             (None, 5)                 20485     \n",
            "                                                                 \n",
            "=================================================================\n",
            "Total params: 134,281,029\n",
            "Trainable params: 134,281,029\n",
            "Non-trainable params: 0\n",
            "_________________________________________________________________\n"
          ]
        }
      ],
      "source": [
        "model.summary()"
      ]
    },
    {
      "cell_type": "code",
      "execution_count": 82,
      "metadata": {
        "id": "GcVAU-NNKr2A",
        "outputId": "481e8432-0f6e-4866-f4da-60f49505780c",
        "colab": {
          "base_uri": "https://localhost:8080/"
        }
      },
      "outputs": [
        {
          "output_type": "stream",
          "name": "stderr",
          "text": [
            "WARNING:tensorflow:`period` argument is deprecated. Please use `save_freq` to specify the frequency in number of batches seen.\n"
          ]
        },
        {
          "output_type": "stream",
          "name": "stdout",
          "text": [
            "Epoch 1/30\n"
          ]
        },
        {
          "output_type": "stream",
          "name": "stderr",
          "text": [
            "<ipython-input-82-2f5267274031>:6: UserWarning: `Model.fit_generator` is deprecated and will be removed in a future version. Please use `Model.fit`, which supports generators.\n",
            "  hist = model.fit_generator(steps_per_epoch=STEP_SIZE_TRAIN,generator=train_data, validation_data= test_data, validation_steps=STEP_SIZE_VALID,epochs=30,callbacks=[checkpoint,early])\n"
          ]
        },
        {
          "output_type": "stream",
          "name": "stdout",
          "text": [
            "88/88 [==============================] - ETA: 0s - loss: 1.6096 - accuracy: 0.1814\n",
            "Epoch 1: accuracy improved from -inf to 0.18143, saving model to vgg16_1.h5\n",
            "88/88 [==============================] - 62s 700ms/step - loss: 1.6096 - accuracy: 0.1814 - val_loss: 1.6094 - val_accuracy: 0.2003\n",
            "Epoch 2/30\n",
            "88/88 [==============================] - ETA: 0s - loss: 1.6097 - accuracy: 0.1971\n",
            "Epoch 2: accuracy improved from 0.18143 to 0.19714, saving model to vgg16_1.h5\n",
            "88/88 [==============================] - 46s 517ms/step - loss: 1.6097 - accuracy: 0.1971 - val_loss: 1.6095 - val_accuracy: 0.1974\n",
            "Epoch 3/30\n",
            "88/88 [==============================] - ETA: 0s - loss: 1.6096 - accuracy: 0.1846\n",
            "Epoch 3: accuracy did not improve from 0.19714\n",
            "88/88 [==============================] - 40s 454ms/step - loss: 1.6096 - accuracy: 0.1846 - val_loss: 1.6094 - val_accuracy: 0.1989\n",
            "Epoch 4/30\n",
            "88/88 [==============================] - ETA: 0s - loss: 1.6096 - accuracy: 0.1918\n",
            "Epoch 4: accuracy did not improve from 0.19714\n",
            "88/88 [==============================] - 40s 453ms/step - loss: 1.6096 - accuracy: 0.1918 - val_loss: 1.6094 - val_accuracy: 0.1989\n",
            "Epoch 5/30\n",
            "88/88 [==============================] - ETA: 0s - loss: 1.6096 - accuracy: 0.1875\n",
            "Epoch 5: accuracy did not improve from 0.19714\n",
            "88/88 [==============================] - 38s 428ms/step - loss: 1.6096 - accuracy: 0.1875 - val_loss: 1.6094 - val_accuracy: 0.2017\n",
            "Epoch 6/30\n",
            "88/88 [==============================] - ETA: 0s - loss: 1.6096 - accuracy: 0.1982\n",
            "Epoch 6: accuracy improved from 0.19714 to 0.19821, saving model to vgg16_1.h5\n",
            "88/88 [==============================] - 48s 542ms/step - loss: 1.6096 - accuracy: 0.1982 - val_loss: 1.6094 - val_accuracy: 0.1974\n",
            "Epoch 7/30\n",
            "88/88 [==============================] - ETA: 0s - loss: 1.6096 - accuracy: 0.1775\n",
            "Epoch 7: accuracy did not improve from 0.19821\n",
            "88/88 [==============================] - 40s 455ms/step - loss: 1.6096 - accuracy: 0.1775 - val_loss: 1.6094 - val_accuracy: 0.1989\n",
            "Epoch 8/30\n",
            "88/88 [==============================] - ETA: 0s - loss: 1.6096 - accuracy: 0.1871\n",
            "Epoch 8: accuracy did not improve from 0.19821\n",
            "88/88 [==============================] - 40s 453ms/step - loss: 1.6096 - accuracy: 0.1871 - val_loss: 1.6095 - val_accuracy: 0.2003\n",
            "Epoch 9/30\n",
            "88/88 [==============================] - ETA: 0s - loss: 1.6097 - accuracy: 0.1893\n",
            "Epoch 9: accuracy did not improve from 0.19821\n",
            "88/88 [==============================] - 40s 453ms/step - loss: 1.6097 - accuracy: 0.1893 - val_loss: 1.6094 - val_accuracy: 0.2003\n",
            "Epoch 10/30\n",
            "88/88 [==============================] - ETA: 0s - loss: 1.6096 - accuracy: 0.2014\n",
            "Epoch 10: accuracy improved from 0.19821 to 0.20143, saving model to vgg16_1.h5\n",
            "88/88 [==============================] - 47s 535ms/step - loss: 1.6096 - accuracy: 0.2014 - val_loss: 1.6094 - val_accuracy: 0.2017\n",
            "Epoch 11/30\n",
            "88/88 [==============================] - ETA: 0s - loss: 1.6096 - accuracy: 0.1857\n",
            "Epoch 11: accuracy did not improve from 0.20143\n",
            "88/88 [==============================] - 40s 454ms/step - loss: 1.6096 - accuracy: 0.1857 - val_loss: 1.6095 - val_accuracy: 0.1989\n",
            "Epoch 12/30\n",
            "88/88 [==============================] - ETA: 0s - loss: 1.6096 - accuracy: 0.1839\n",
            "Epoch 12: accuracy did not improve from 0.20143\n",
            "88/88 [==============================] - 40s 452ms/step - loss: 1.6096 - accuracy: 0.1839 - val_loss: 1.6094 - val_accuracy: 0.2017\n",
            "Epoch 13/30\n",
            "88/88 [==============================] - ETA: 0s - loss: 1.6096 - accuracy: 0.1914\n",
            "Epoch 13: accuracy did not improve from 0.20143\n",
            "88/88 [==============================] - 38s 426ms/step - loss: 1.6096 - accuracy: 0.1914 - val_loss: 1.6094 - val_accuracy: 0.2017\n",
            "Epoch 14/30\n",
            "88/88 [==============================] - ETA: 0s - loss: 1.6096 - accuracy: 0.1900\n",
            "Epoch 14: accuracy did not improve from 0.20143\n",
            "88/88 [==============================] - 40s 452ms/step - loss: 1.6096 - accuracy: 0.1900 - val_loss: 1.6094 - val_accuracy: 0.2017\n",
            "Epoch 15/30\n",
            "88/88 [==============================] - ETA: 0s - loss: 1.6096 - accuracy: 0.1839\n",
            "Epoch 15: accuracy did not improve from 0.20143\n",
            "88/88 [==============================] - 40s 453ms/step - loss: 1.6096 - accuracy: 0.1839 - val_loss: 1.6094 - val_accuracy: 0.2003\n",
            "Epoch 16/30\n",
            "88/88 [==============================] - ETA: 0s - loss: 1.6096 - accuracy: 0.1875\n",
            "Epoch 16: accuracy did not improve from 0.20143\n",
            "88/88 [==============================] - 40s 452ms/step - loss: 1.6096 - accuracy: 0.1875 - val_loss: 1.6094 - val_accuracy: 0.2003\n",
            "Epoch 17/30\n",
            "88/88 [==============================] - ETA: 0s - loss: 1.6096 - accuracy: 0.1871\n",
            "Epoch 17: accuracy did not improve from 0.20143\n",
            "88/88 [==============================] - 38s 426ms/step - loss: 1.6096 - accuracy: 0.1871 - val_loss: 1.6094 - val_accuracy: 0.2003\n",
            "Epoch 18/30\n",
            "88/88 [==============================] - ETA: 0s - loss: 1.6096 - accuracy: 0.1904\n",
            "Epoch 18: accuracy did not improve from 0.20143\n",
            "88/88 [==============================] - 38s 427ms/step - loss: 1.6096 - accuracy: 0.1904 - val_loss: 1.6094 - val_accuracy: 0.2017\n",
            "Epoch 19/30\n",
            "88/88 [==============================] - ETA: 0s - loss: 1.6096 - accuracy: 0.1861\n",
            "Epoch 19: accuracy did not improve from 0.20143\n",
            "88/88 [==============================] - 40s 453ms/step - loss: 1.6096 - accuracy: 0.1861 - val_loss: 1.6094 - val_accuracy: 0.2003\n",
            "Epoch 20/30\n",
            "88/88 [==============================] - ETA: 0s - loss: 1.6096 - accuracy: 0.1900\n",
            "Epoch 20: accuracy did not improve from 0.20143\n",
            "88/88 [==============================] - 40s 453ms/step - loss: 1.6096 - accuracy: 0.1900 - val_loss: 1.6094 - val_accuracy: 0.1989\n",
            "Epoch 21/30\n",
            "88/88 [==============================] - ETA: 0s - loss: 1.6096 - accuracy: 0.1832\n",
            "Epoch 21: accuracy did not improve from 0.20143\n",
            "88/88 [==============================] - 40s 452ms/step - loss: 1.6096 - accuracy: 0.1832 - val_loss: 1.6094 - val_accuracy: 0.2003\n",
            "Epoch 22/30\n",
            "88/88 [==============================] - ETA: 0s - loss: 1.6095 - accuracy: 0.1846\n",
            "Epoch 22: accuracy did not improve from 0.20143\n",
            "88/88 [==============================] - 38s 427ms/step - loss: 1.6095 - accuracy: 0.1846 - val_loss: 1.6094 - val_accuracy: 0.1974\n",
            "Epoch 23/30\n",
            "88/88 [==============================] - ETA: 0s - loss: 1.6095 - accuracy: 0.1914\n",
            "Epoch 23: accuracy did not improve from 0.20143\n",
            "88/88 [==============================] - 38s 427ms/step - loss: 1.6095 - accuracy: 0.1914 - val_loss: 1.6094 - val_accuracy: 0.1989\n",
            "Epoch 24/30\n",
            "88/88 [==============================] - ETA: 0s - loss: 1.6096 - accuracy: 0.1868\n",
            "Epoch 24: accuracy did not improve from 0.20143\n",
            "88/88 [==============================] - 38s 426ms/step - loss: 1.6096 - accuracy: 0.1868 - val_loss: 1.6094 - val_accuracy: 0.1974\n",
            "Epoch 25/30\n",
            "88/88 [==============================] - ETA: 0s - loss: 1.6095 - accuracy: 0.1875\n",
            "Epoch 25: accuracy did not improve from 0.20143\n",
            "88/88 [==============================] - 38s 426ms/step - loss: 1.6095 - accuracy: 0.1875 - val_loss: 1.6095 - val_accuracy: 0.1989\n",
            "Epoch 26/30\n",
            "88/88 [==============================] - ETA: 0s - loss: 1.6096 - accuracy: 0.1950\n",
            "Epoch 26: accuracy did not improve from 0.20143\n",
            "88/88 [==============================] - 40s 452ms/step - loss: 1.6096 - accuracy: 0.1950 - val_loss: 1.6094 - val_accuracy: 0.1989\n",
            "Epoch 27/30\n",
            "88/88 [==============================] - ETA: 0s - loss: 1.6096 - accuracy: 0.1911\n",
            "Epoch 27: accuracy did not improve from 0.20143\n",
            "88/88 [==============================] - 37s 420ms/step - loss: 1.6096 - accuracy: 0.1911 - val_loss: 1.6095 - val_accuracy: 0.1989\n",
            "Epoch 28/30\n",
            "88/88 [==============================] - ETA: 0s - loss: 1.6096 - accuracy: 0.1961\n",
            "Epoch 28: accuracy did not improve from 0.20143\n",
            "88/88 [==============================] - 39s 446ms/step - loss: 1.6096 - accuracy: 0.1961 - val_loss: 1.6094 - val_accuracy: 0.2003\n",
            "Epoch 29/30\n",
            "88/88 [==============================] - ETA: 0s - loss: 1.6096 - accuracy: 0.1975\n",
            "Epoch 29: accuracy did not improve from 0.20143\n",
            "88/88 [==============================] - 37s 420ms/step - loss: 1.6096 - accuracy: 0.1975 - val_loss: 1.6094 - val_accuracy: 0.2017\n",
            "Epoch 30/30\n",
            "88/88 [==============================] - ETA: 0s - loss: 1.6096 - accuracy: 0.1857\n",
            "Epoch 30: accuracy did not improve from 0.20143\n",
            "88/88 [==============================] - 39s 447ms/step - loss: 1.6096 - accuracy: 0.1857 - val_loss: 1.6094 - val_accuracy: 0.2017\n",
            "Epoch 30: early stopping\n"
          ]
        }
      ],
      "source": [
        "from keras.callbacks import ModelCheckpoint, EarlyStopping\n",
        "STEP_SIZE_TRAIN = train_data.n//train_data.batch_size\n",
        "STEP_SIZE_VALID = test_data.n//test_data.batch_size\n",
        "checkpoint = ModelCheckpoint(\"vgg16_1.h5\", monitor='accuracy', verbose=1, save_best_only=True, save_weights_only=False, mode='auto', period=1)\n",
        "early = EarlyStopping(monitor='accuracy', min_delta=0, patience=20, verbose=1, mode='auto')\n",
        "hist = model.fit_generator(steps_per_epoch=STEP_SIZE_TRAIN,generator=train_data, validation_data= test_data, validation_steps=STEP_SIZE_VALID,epochs=30,callbacks=[checkpoint,early])"
      ]
    },
    {
      "cell_type": "code",
      "source": [
        "import matplotlib.pyplot as plt\n",
        "plt.plot(hist.history[\"accuracy\"])\n",
        "plt.title(\"model accuracy\")\n",
        "plt.ylabel(\"Accuracy\")\n",
        "plt.xlabel(\"Epoch\")\n",
        "plt.legend([\"Accuracy\",\"Validation Accuracy\",\"loss\",\"Validation Loss\"])\n",
        "plt.show()"
      ],
      "metadata": {
        "id": "4amK2sJ3WdR4",
        "outputId": "62404846-c28d-46a2-a3be-3e88f246eab9",
        "colab": {
          "base_uri": "https://localhost:8080/",
          "height": 472
        }
      },
      "execution_count": 83,
      "outputs": [
        {
          "output_type": "display_data",
          "data": {
            "text/plain": [
              "<Figure size 640x480 with 1 Axes>"
            ],
            "image/png": "[encoded data removed]"
          },
          "metadata": {}
        }
      ]
    }
  ],
  "metadata": {
    "kernelspec": {
      "display_name": "Python 3",
      "name": "python3"
    },
    "language_info": {
      "codemirror_mode": {
        "name": "ipython",
        "version": 3
      },
      "file_extension": ".py",
      "mimetype": "text/x-python",
      "name": "python",
      "nbconvert_exporter": "python",
      "pygments_lexer": "ipython3",
      "version": "3.11.1"
    },
    "orig_nbformat": 4,
    "colab": {
      "provenance": [],
      "gpuType": "T4"
    },
    "accelerator": "GPU"
  },
  "nbformat": 4,
  "nbformat_minor": 0
}