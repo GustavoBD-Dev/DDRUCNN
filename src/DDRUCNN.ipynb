{
 "cells": [
  {
   "attachments": {},
   "cell_type": "markdown",
   "metadata": {},
   "source": [
    "# Detection of Diabetic Retinopathy using Convolutional Neural Networks"
   ]
  },
  {
   "attachments": {},
   "cell_type": "markdown",
   "metadata": {},
   "source": [
    "## Exploracion de datos"
   ]
  },
  {
   "attachments": {},
   "cell_type": "markdown",
   "metadata": {},
   "source": [
    "### Carga de datos"
   ]
  },
  {
   "attachments": {},
   "cell_type": "markdown",
   "metadata": {},
   "source": [
    "Los datos se se han obtenido de Kaggle.com, en donde se proporciona un archivo `zip` con carpetas de imagenes y archivos `csv` en donde se muestra el nombre de la imagen asi como la etiqueta correpondiente al nivel de retinopatia diabetica a la que pertence.\n",
    "\n",
    "Como primer paso relizamos el análisis del archivo `csv` con las librerias `pandas` y `numpy`.\n",
    "\n",
    "* Data Science\n",
    "* KDD process"
   ]
  },
  {
   "cell_type": "code",
   "execution_count": 1,
   "metadata": {},
   "outputs": [
    {
     "data": {
      "text/html": [
       "<div>\n",
       "<style scoped>\n",
       "    .dataframe tbody tr th:only-of-type {\n",
       "        vertical-align: middle;\n",
       "    }\n",
       "\n",
       "    .dataframe tbody tr th {\n",
       "        vertical-align: top;\n",
       "    }\n",
       "\n",
       "    .dataframe thead th {\n",
       "        text-align: right;\n",
       "    }\n",
       "</style>\n",
       "<table border=\"1\" class=\"dataframe\">\n",
       "  <thead>\n",
       "    <tr style=\"text-align: right;\">\n",
       "      <th></th>\n",
       "      <th>image</th>\n",
       "      <th>level</th>\n",
       "    </tr>\n",
       "  </thead>\n",
       "  <tbody>\n",
       "    <tr>\n",
       "      <th>0</th>\n",
       "      <td>10_left</td>\n",
       "      <td>0</td>\n",
       "    </tr>\n",
       "    <tr>\n",
       "      <th>1</th>\n",
       "      <td>10_right</td>\n",
       "      <td>0</td>\n",
       "    </tr>\n",
       "    <tr>\n",
       "      <th>2</th>\n",
       "      <td>13_left</td>\n",
       "      <td>0</td>\n",
       "    </tr>\n",
       "    <tr>\n",
       "      <th>3</th>\n",
       "      <td>13_right</td>\n",
       "      <td>0</td>\n",
       "    </tr>\n",
       "    <tr>\n",
       "      <th>4</th>\n",
       "      <td>15_left</td>\n",
       "      <td>1</td>\n",
       "    </tr>\n",
       "    <tr>\n",
       "      <th>...</th>\n",
       "      <td>...</td>\n",
       "      <td>...</td>\n",
       "    </tr>\n",
       "    <tr>\n",
       "      <th>35103</th>\n",
       "      <td>44347_right</td>\n",
       "      <td>0</td>\n",
       "    </tr>\n",
       "    <tr>\n",
       "      <th>35104</th>\n",
       "      <td>44348_left</td>\n",
       "      <td>0</td>\n",
       "    </tr>\n",
       "    <tr>\n",
       "      <th>35105</th>\n",
       "      <td>44348_right</td>\n",
       "      <td>0</td>\n",
       "    </tr>\n",
       "    <tr>\n",
       "      <th>35106</th>\n",
       "      <td>44349_left</td>\n",
       "      <td>0</td>\n",
       "    </tr>\n",
       "    <tr>\n",
       "      <th>35107</th>\n",
       "      <td>44349_right</td>\n",
       "      <td>1</td>\n",
       "    </tr>\n",
       "  </tbody>\n",
       "</table>\n",
       "<p>35108 rows × 2 columns</p>\n",
       "</div>"
      ],
      "text/plain": [
       "             image  level\n",
       "0          10_left      0\n",
       "1         10_right      0\n",
       "2          13_left      0\n",
       "3         13_right      0\n",
       "4          15_left      1\n",
       "...            ...    ...\n",
       "35103  44347_right      0\n",
       "35104   44348_left      0\n",
       "35105  44348_right      0\n",
       "35106   44349_left      0\n",
       "35107  44349_right      1\n",
       "\n",
       "[35108 rows x 2 columns]"
      ]
     },
     "execution_count": 1,
     "metadata": {},
     "output_type": "execute_result"
    }
   ],
   "source": [
    "# import libraries\n",
    "import pandas as pd\n",
    "import numpy as np\n",
    "import os\n",
    "import sys\n",
    "\n",
    "# Load data from csv file\n",
    "df_labels = pd.read_csv('C:/Users/FINSUS-Admin/Documents/gblasd/DDRUCNN/data/trainLabels_cropped.csv', delimiter=',', header='infer', encoding='utf-8')\n",
    "\n",
    "# Remove any rows with missing data\n",
    "df_labels = df_labels.dropna(axis=0, how='any')\n",
    "\n",
    "# Print the result out into this notebook\n",
    "df_labels \n"
   ]
  },
  {
   "attachments": {},
   "cell_type": "markdown",
   "metadata": {},
   "source": [
    "### Visualizacion de datos"
   ]
  },
  {
   "attachments": {},
   "cell_type": "markdown",
   "metadata": {},
   "source": [
    "Analizamos el numero de imagenes de cada clase, para un mejor analisis visualizamos la distribucion de datos en una grafica."
   ]
  },
  {
   "cell_type": "code",
   "execution_count": 2,
   "metadata": {},
   "outputs": [
    {
     "data": {
      "text/plain": [
       "0    25802\n",
       "2     5288\n",
       "1     2438\n",
       "3      872\n",
       "4      708\n",
       "Name: level, dtype: int64"
      ]
     },
     "execution_count": 2,
     "metadata": {},
     "output_type": "execute_result"
    },
    {
     "data": {
      "image/png": "[encoded data removed]",
      "text/plain": [
       "<Figure size 640x480 with 1 Axes>"
      ]
     },
     "metadata": {},
     "output_type": "display_data"
    }
   ],
   "source": [
    "# Ensure plots are displayed inline in the notebook\n",
    "%matplotlib inline\n",
    "\n",
    "from matplotlib import pyplot as plt # showing and rendering figures \n",
    "\n",
    "# Display plot\n",
    "df_labels['level'].hist()\n",
    "\n",
    "# Number of images to each label\n",
    "df_labels['level'].value_counts()\n"
   ]
  },
  {
   "attachments": {},
   "cell_type": "markdown",
   "metadata": {},
   "source": [
    "Como observamos en la grafica tenemos un total de `35108` imagenes en total, distribuidas en 5 clases.  \n",
    "\n",
    "Además, de acuerdo con los datos debemos tener en cuenta lo siguiente:\n",
    "* tenemos imagenes de ambos ojos por paciente, esto al mostrarse en las etiquetas si es una imagen de un ojo izquierdo o derecho.\n",
    "* el archivo muestra las etiquetas de los ojo, pero debemos comprobar su existencia en el directorio, para ello debemos armar su direccion.\n",
    "\n",
    "Posterior a ello, debemos relizar un balanceo de datos entre cada clase asi como una separacion en datos de entranamiento y datos de validacion para el modelo a entrenar. sin olvidar el preprocesamiento.\n",
    "\n",
    "* Imbalanced Classification with Multiple Classes"
   ]
  },
  {
   "cell_type": "code",
   "execution_count": 61,
   "metadata": {},
   "outputs": [
    {
     "name": "stdout",
     "output_type": "stream",
     "text": [
      "35108  images found of  35108  total\n"
     ]
    },
    {
     "data": {
      "text/html": [
       "<div>\n",
       "<style scoped>\n",
       "    .dataframe tbody tr th:only-of-type {\n",
       "        vertical-align: middle;\n",
       "    }\n",
       "\n",
       "    .dataframe tbody tr th {\n",
       "        vertical-align: top;\n",
       "    }\n",
       "\n",
       "    .dataframe thead th {\n",
       "        text-align: right;\n",
       "    }\n",
       "</style>\n",
       "<table border=\"1\" class=\"dataframe\">\n",
       "  <thead>\n",
       "    <tr style=\"text-align: right;\">\n",
       "      <th></th>\n",
       "      <th>image</th>\n",
       "      <th>level</th>\n",
       "      <th>PatientId</th>\n",
       "      <th>path</th>\n",
       "      <th>exists</th>\n",
       "      <th>eye</th>\n",
       "    </tr>\n",
       "  </thead>\n",
       "  <tbody>\n",
       "    <tr>\n",
       "      <th>0</th>\n",
       "      <td>10_left</td>\n",
       "      <td>0</td>\n",
       "      <td>10</td>\n",
       "      <td>C:\\Users\\FINSUS-Admin\\Documents\\gblasd\\DDRUCNN...</td>\n",
       "      <td>True</td>\n",
       "      <td>1</td>\n",
       "    </tr>\n",
       "    <tr>\n",
       "      <th>1</th>\n",
       "      <td>10_right</td>\n",
       "      <td>0</td>\n",
       "      <td>10</td>\n",
       "      <td>C:\\Users\\FINSUS-Admin\\Documents\\gblasd\\DDRUCNN...</td>\n",
       "      <td>True</td>\n",
       "      <td>0</td>\n",
       "    </tr>\n",
       "    <tr>\n",
       "      <th>2</th>\n",
       "      <td>13_left</td>\n",
       "      <td>0</td>\n",
       "      <td>13</td>\n",
       "      <td>C:\\Users\\FINSUS-Admin\\Documents\\gblasd\\DDRUCNN...</td>\n",
       "      <td>True</td>\n",
       "      <td>1</td>\n",
       "    </tr>\n",
       "    <tr>\n",
       "      <th>3</th>\n",
       "      <td>13_right</td>\n",
       "      <td>0</td>\n",
       "      <td>13</td>\n",
       "      <td>C:\\Users\\FINSUS-Admin\\Documents\\gblasd\\DDRUCNN...</td>\n",
       "      <td>True</td>\n",
       "      <td>0</td>\n",
       "    </tr>\n",
       "    <tr>\n",
       "      <th>4</th>\n",
       "      <td>15_left</td>\n",
       "      <td>1</td>\n",
       "      <td>15</td>\n",
       "      <td>C:\\Users\\FINSUS-Admin\\Documents\\gblasd\\DDRUCNN...</td>\n",
       "      <td>True</td>\n",
       "      <td>1</td>\n",
       "    </tr>\n",
       "    <tr>\n",
       "      <th>...</th>\n",
       "      <td>...</td>\n",
       "      <td>...</td>\n",
       "      <td>...</td>\n",
       "      <td>...</td>\n",
       "      <td>...</td>\n",
       "      <td>...</td>\n",
       "    </tr>\n",
       "    <tr>\n",
       "      <th>35103</th>\n",
       "      <td>44347_right</td>\n",
       "      <td>0</td>\n",
       "      <td>44347</td>\n",
       "      <td>C:\\Users\\FINSUS-Admin\\Documents\\gblasd\\DDRUCNN...</td>\n",
       "      <td>True</td>\n",
       "      <td>0</td>\n",
       "    </tr>\n",
       "    <tr>\n",
       "      <th>35104</th>\n",
       "      <td>44348_left</td>\n",
       "      <td>0</td>\n",
       "      <td>44348</td>\n",
       "      <td>C:\\Users\\FINSUS-Admin\\Documents\\gblasd\\DDRUCNN...</td>\n",
       "      <td>True</td>\n",
       "      <td>1</td>\n",
       "    </tr>\n",
       "    <tr>\n",
       "      <th>35105</th>\n",
       "      <td>44348_right</td>\n",
       "      <td>0</td>\n",
       "      <td>44348</td>\n",
       "      <td>C:\\Users\\FINSUS-Admin\\Documents\\gblasd\\DDRUCNN...</td>\n",
       "      <td>True</td>\n",
       "      <td>0</td>\n",
       "    </tr>\n",
       "    <tr>\n",
       "      <th>35106</th>\n",
       "      <td>44349_left</td>\n",
       "      <td>0</td>\n",
       "      <td>44349</td>\n",
       "      <td>C:\\Users\\FINSUS-Admin\\Documents\\gblasd\\DDRUCNN...</td>\n",
       "      <td>True</td>\n",
       "      <td>1</td>\n",
       "    </tr>\n",
       "    <tr>\n",
       "      <th>35107</th>\n",
       "      <td>44349_right</td>\n",
       "      <td>1</td>\n",
       "      <td>44349</td>\n",
       "      <td>C:\\Users\\FINSUS-Admin\\Documents\\gblasd\\DDRUCNN...</td>\n",
       "      <td>True</td>\n",
       "      <td>0</td>\n",
       "    </tr>\n",
       "  </tbody>\n",
       "</table>\n",
       "<p>35108 rows × 6 columns</p>\n",
       "</div>"
      ],
      "text/plain": [
       "             image  level PatientId  \\\n",
       "0          10_left      0        10   \n",
       "1         10_right      0        10   \n",
       "2          13_left      0        13   \n",
       "3         13_right      0        13   \n",
       "4          15_left      1        15   \n",
       "...            ...    ...       ...   \n",
       "35103  44347_right      0     44347   \n",
       "35104   44348_left      0     44348   \n",
       "35105  44348_right      0     44348   \n",
       "35106   44349_left      0     44349   \n",
       "35107  44349_right      1     44349   \n",
       "\n",
       "                                                    path  exists  eye  \n",
       "0      C:\\Users\\FINSUS-Admin\\Documents\\gblasd\\DDRUCNN...    True    1  \n",
       "1      C:\\Users\\FINSUS-Admin\\Documents\\gblasd\\DDRUCNN...    True    0  \n",
       "2      C:\\Users\\FINSUS-Admin\\Documents\\gblasd\\DDRUCNN...    True    1  \n",
       "3      C:\\Users\\FINSUS-Admin\\Documents\\gblasd\\DDRUCNN...    True    0  \n",
       "4      C:\\Users\\FINSUS-Admin\\Documents\\gblasd\\DDRUCNN...    True    1  \n",
       "...                                                  ...     ...  ...  \n",
       "35103  C:\\Users\\FINSUS-Admin\\Documents\\gblasd\\DDRUCNN...    True    0  \n",
       "35104  C:\\Users\\FINSUS-Admin\\Documents\\gblasd\\DDRUCNN...    True    1  \n",
       "35105  C:\\Users\\FINSUS-Admin\\Documents\\gblasd\\DDRUCNN...    True    0  \n",
       "35106  C:\\Users\\FINSUS-Admin\\Documents\\gblasd\\DDRUCNN...    True    1  \n",
       "35107  C:\\Users\\FINSUS-Admin\\Documents\\gblasd\\DDRUCNN...    True    0  \n",
       "\n",
       "[35108 rows x 6 columns]"
      ]
     },
     "execution_count": 61,
     "metadata": {},
     "output_type": "execute_result"
    }
   ],
   "source": [
    "from skimage.io import imread\n",
    "from glob import glob\n",
    "\n",
    "base_image_dir = os.path.join('C:\\\\Users\\\\FINSUS-Admin\\\\Documents\\\\gblasd\\\\DDRUCNN','data')\n",
    "# print(base_image_dir)\n",
    "retina_df = pd.read_csv(os.path.join(base_image_dir,'trainLabels_cropped.csv'))\n",
    "# print(os.path.join(base_image_dir, 'trainLabels_cropped.csv'))\n",
    "\n",
    "# Get number of patient\n",
    "retina_df['PatientId'] =  retina_df['image'].map(lambda x: x.split('_')[0])\n",
    "# get path of the image\n",
    "retina_df['path'] = retina_df['image'].map(lambda x: os.path.join(base_image_dir, 'resized_train_cropped', '{}.jpeg'.format(x)))\n",
    "# We check if the image exists in the directory\n",
    "retina_df['exists'] = retina_df['path'].map(os.path.exists)\n",
    "\n",
    "print(retina_df['exists'].sum(), ' images found of ', retina_df.shape[0], ' total')\n",
    "\n",
    "# 0 if it is right eye, 1 if it is opposite\n",
    "retina_df['eye'] = retina_df['image'].map(lambda x: 1 if x.split('_')[-1] == 'left' else 0)\n",
    "\n",
    "retina_df"
   ]
  },
  {
   "cell_type": "code",
   "execution_count": 66,
   "metadata": {},
   "outputs": [
    {
     "data": {
      "text/html": [
       "<div>\n",
       "<style scoped>\n",
       "    .dataframe tbody tr th:only-of-type {\n",
       "        vertical-align: middle;\n",
       "    }\n",
       "\n",
       "    .dataframe tbody tr th {\n",
       "        vertical-align: top;\n",
       "    }\n",
       "\n",
       "    .dataframe thead th {\n",
       "        text-align: right;\n",
       "    }\n",
       "</style>\n",
       "<table border=\"1\" class=\"dataframe\">\n",
       "  <thead>\n",
       "    <tr style=\"text-align: right;\">\n",
       "      <th></th>\n",
       "      <th>image</th>\n",
       "      <th>level</th>\n",
       "      <th>PatientId</th>\n",
       "      <th>path</th>\n",
       "      <th>exists</th>\n",
       "      <th>eye</th>\n",
       "      <th>level_cat</th>\n",
       "    </tr>\n",
       "  </thead>\n",
       "  <tbody>\n",
       "    <tr>\n",
       "      <th>32445</th>\n",
       "      <td>40974_right</td>\n",
       "      <td>0</td>\n",
       "      <td>40974</td>\n",
       "      <td>C:\\Users\\FINSUS-Admin\\Documents\\gblasd\\DDRUCNN...</td>\n",
       "      <td>True</td>\n",
       "      <td>0</td>\n",
       "      <td>[1.0, 0.0, 0.0, 0.0, 0.0]</td>\n",
       "    </tr>\n",
       "    <tr>\n",
       "      <th>14154</th>\n",
       "      <td>17785_right</td>\n",
       "      <td>1</td>\n",
       "      <td>17785</td>\n",
       "      <td>C:\\Users\\FINSUS-Admin\\Documents\\gblasd\\DDRUCNN...</td>\n",
       "      <td>True</td>\n",
       "      <td>0</td>\n",
       "      <td>[0.0, 1.0, 0.0, 0.0, 0.0]</td>\n",
       "    </tr>\n",
       "    <tr>\n",
       "      <th>11271</th>\n",
       "      <td>14160_left</td>\n",
       "      <td>2</td>\n",
       "      <td>14160</td>\n",
       "      <td>C:\\Users\\FINSUS-Admin\\Documents\\gblasd\\DDRUCNN...</td>\n",
       "      <td>True</td>\n",
       "      <td>1</td>\n",
       "      <td>[0.0, 0.0, 1.0, 0.0, 0.0]</td>\n",
       "    </tr>\n",
       "    <tr>\n",
       "      <th>29355</th>\n",
       "      <td>37183_right</td>\n",
       "      <td>0</td>\n",
       "      <td>37183</td>\n",
       "      <td>C:\\Users\\FINSUS-Admin\\Documents\\gblasd\\DDRUCNN...</td>\n",
       "      <td>True</td>\n",
       "      <td>0</td>\n",
       "      <td>[1.0, 0.0, 0.0, 0.0, 0.0]</td>\n",
       "    </tr>\n",
       "    <tr>\n",
       "      <th>24</th>\n",
       "      <td>31_left</td>\n",
       "      <td>0</td>\n",
       "      <td>31</td>\n",
       "      <td>C:\\Users\\FINSUS-Admin\\Documents\\gblasd\\DDRUCNN...</td>\n",
       "      <td>True</td>\n",
       "      <td>1</td>\n",
       "      <td>[1.0, 0.0, 0.0, 0.0, 0.0]</td>\n",
       "    </tr>\n",
       "  </tbody>\n",
       "</table>\n",
       "</div>"
      ],
      "text/plain": [
       "             image  level PatientId  \\\n",
       "32445  40974_right      0     40974   \n",
       "14154  17785_right      1     17785   \n",
       "11271   14160_left      2     14160   \n",
       "29355  37183_right      0     37183   \n",
       "24         31_left      0        31   \n",
       "\n",
       "                                                    path  exists  eye  \\\n",
       "32445  C:\\Users\\FINSUS-Admin\\Documents\\gblasd\\DDRUCNN...    True    0   \n",
       "14154  C:\\Users\\FINSUS-Admin\\Documents\\gblasd\\DDRUCNN...    True    0   \n",
       "11271  C:\\Users\\FINSUS-Admin\\Documents\\gblasd\\DDRUCNN...    True    1   \n",
       "29355  C:\\Users\\FINSUS-Admin\\Documents\\gblasd\\DDRUCNN...    True    0   \n",
       "24     C:\\Users\\FINSUS-Admin\\Documents\\gblasd\\DDRUCNN...    True    1   \n",
       "\n",
       "                       level_cat  \n",
       "32445  [1.0, 0.0, 0.0, 0.0, 0.0]  \n",
       "14154  [0.0, 1.0, 0.0, 0.0, 0.0]  \n",
       "11271  [0.0, 0.0, 1.0, 0.0, 0.0]  \n",
       "29355  [1.0, 0.0, 0.0, 0.0, 0.0]  \n",
       "24     [1.0, 0.0, 0.0, 0.0, 0.0]  "
      ]
     },
     "execution_count": 66,
     "metadata": {},
     "output_type": "execute_result"
    }
   ],
   "source": [
    "from keras.utils.np_utils import to_categorical # Converts a class vector (integers) to binary class matrix.\n",
    "\n",
    "retina_df['level_cat'] = retina_df['level'].map(lambda x: to_categorical(x, 1+retina_df['level'].max()))\n",
    "retina_df.dropna(inplace=True) # Remove missing values.\n",
    "retina_df = retina_df[retina_df['exists']] # add columns\n",
    "retina_df.sample(5) # Return a random sample of items from an axis of object.\n",
    "\n"
   ]
  },
  {
   "attachments": {},
   "cell_type": "markdown",
   "metadata": {},
   "source": [
    "### Eaminamos la distribucion de la severidad en los ojos"
   ]
  },
  {
   "cell_type": "code",
   "execution_count": 67,
   "metadata": {},
   "outputs": [
    {
     "data": {
      "text/plain": [
       "array([[<Axes: title={'center': 'level'}>,\n",
       "        <Axes: title={'center': 'eye'}>]], dtype=object)"
      ]
     },
     "execution_count": 67,
     "metadata": {},
     "output_type": "execute_result"
    },
    {
     "data": {
      "image/png": "[encoded data removed]",
      "text/plain": [
       "<Figure size 1000x500 with 2 Axes>"
      ]
     },
     "metadata": {},
     "output_type": "display_data"
    }
   ],
   "source": [
    "retina_df[['level', 'eye']].hist(figsize=(10,5))"
   ]
  },
  {
   "attachments": {},
   "cell_type": "markdown",
   "metadata": {},
   "source": [
    "### Separamos datos en bloque de entrenamiento y validación\n"
   ]
  },
  {
   "cell_type": "code",
   "execution_count": 68,
   "metadata": {},
   "outputs": [],
   "source": [
    "from sklearn.model_selection import train_test_split\n",
    "import tensorflow as tf\n",
    "from keras import backend as K\n",
    "from keras.applications.vgg16 import preprocess_input\n"
   ]
  },
  {
   "cell_type": "code",
   "execution_count": 72,
   "metadata": {},
   "outputs": [
    {
     "name": "stdout",
     "output_type": "stream",
     "text": [
      "train 28797  validation  7671\n"
     ]
    }
   ],
   "source": [
    "rr_df = retina_df[['PatientId', 'level']].drop_duplicates() # Return DataFrame with duplicate rows removed.\n",
    "\n",
    "# Split arrays or matrices into random train and test subsets.\n",
    "train_ids, valid_ids = train_test_split(rr_df['PatientId'],         # arrays\n",
    "                                        test_size=0.20,             # test_size\n",
    "                                        train_size=0.80,            # train_size\n",
    "                                        random_state=2018,          # check (Controls the shuffling applied to the data before applying the split. )\n",
    "                                        stratify=rr_df['level'])    # labels of class\n",
    "\n",
    "raw_train_df = retina_df[retina_df['PatientId'].isin(train_ids)]    # Whether each element in the DataFrame is contained in values.\n",
    "valid_df = retina_df[retina_df['PatientId'].isin(valid_ids)]\n",
    "\n",
    "print('train', raw_train_df.shape[0], ' validation ', valid_df.shape[0])"
   ]
  },
  {
   "attachments": {},
   "cell_type": "markdown",
   "metadata": {},
   "source": [
    "### Balanceamos la distribucion del set de entrenamiento"
   ]
  },
  {
   "cell_type": "code",
   "execution_count": 45,
   "metadata": {},
   "outputs": [
    {
     "name": "stdout",
     "output_type": "stream",
     "text": [
      "New Data Size:  720  Old size:  27138\n"
     ]
    },
    {
     "data": {
      "text/plain": [
       "array([[<Axes: title={'center': 'level'}>,\n",
       "        <Axes: title={'center': 'eye'}>]], dtype=object)"
      ]
     },
     "execution_count": 45,
     "metadata": {},
     "output_type": "execute_result"
    },
    {
     "data": {
      "image/png": "[encoded data removed]",
      "text/plain": [
       "<Figure size 1000x500 with 2 Axes>"
      ]
     },
     "metadata": {},
     "output_type": "display_data"
    }
   ],
   "source": [
    "train_df = raw_train_df.groupby(['level', 'eye']).apply(lambda x: x.sample(72, replace=True)).reset_index(drop=True)\n",
    "print('New Data Size: ', train_df.shape[0], ' Old size: ', raw_train_df.shape[0])\n",
    "train_df[['level', 'eye']].hist(figsize=(10,5))"
   ]
  }
 ],
 "metadata": {
  "kernelspec": {
   "display_name": "Python 3",
   "language": "python",
   "name": "python3"
  },
  "language_info": {
   "codemirror_mode": {
    "name": "ipython",
    "version": 3
   },
   "file_extension": ".py",
   "mimetype": "text/x-python",
   "name": "python",
   "nbconvert_exporter": "python",
   "pygments_lexer": "ipython3",
   "version": "3.11.1"
  },
  "orig_nbformat": 4
 },
 "nbformat": 4,
 "nbformat_minor": 2
}
